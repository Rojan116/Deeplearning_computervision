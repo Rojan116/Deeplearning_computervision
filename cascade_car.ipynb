{
  "nbformat": 4,
  "nbformat_minor": 0,
  "metadata": {
    "colab": {
      "name": "Untitled",
      "version": "0.3.2",
      "provenance": [],
      "include_colab_link": true
    },
    "kernelspec": {
      "name": "python3",
      "display_name": "Python 3"
    }
  },
  "cells": [
    {
      "cell_type": "markdown",
      "metadata": {
        "id": "view-in-github",
        "colab_type": "text"
      },
      "source": [
        "<a href=\"https://colab.research.google.com/github/Rojan116/Deeplearning_computervision/blob/master/cascade_car.ipynb\" target=\"_parent\"><img src=\"https://colab.research.google.com/assets/colab-badge.svg\" alt=\"Open In Colab\"/></a>"
      ]
    },
    {
      "metadata": {
        "id": "Eu-eHmCHyxGc",
        "colab_type": "code",
        "colab": {}
      },
      "cell_type": "code",
      "source": [
        "import cv2\n",
        "print(cv2.__version__)\n",
        "\n",
        "cascade_src = 'cars.xml'\n",
        "video_src = 'dataset/video1.avi'\n",
        "#video_src = 'dataset/video2.avi'\n",
        "\n",
        "cap = cv2.VideoCapture(video_src)\n",
        "car_cascade = cv2.CascadeClassifier(cascade_src)\n",
        "\n",
        "while True:\n",
        "    ret, img = cap.read()\n",
        "    if (type(img) == type(None)):\n",
        "        break\n",
        "    \n",
        "    gray = cv2.cvtColor(img, cv2.COLOR_BGR2GRAY)\n",
        "    \n",
        "    cars = car_cascade.detectMultiScale(gray, 1.1, 1)\n",
        "\n",
        "    for (x,y,w,h) in cars:\n",
        "        cv2.rectangle(img,(x,y),(x+w,y+h),(0,0,255),2)      \n",
        "    \n",
        "    cv2.imshow('video', img)\n",
        "    \n",
        "    if cv2.waitKey(33) == 27:\n",
        "        break\n",
        "\n",
        "cv2.destroyAllWindows()"
      ],
      "execution_count": 0,
      "outputs": []
    }
  ]
}