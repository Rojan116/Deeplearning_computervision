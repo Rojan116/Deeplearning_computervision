{
  "nbformat": 4,
  "nbformat_minor": 0,
  "metadata": {
    "colab": {
      "name": "featureextraction.ipynb",
      "version": "0.3.2",
      "provenance": [],
      "include_colab_link": true
    },
    "kernelspec": {
      "name": "python3",
      "display_name": "Python 3"
    },
    "accelerator": "GPU"
  },
  "cells": [
    {
      "cell_type": "markdown",
      "metadata": {
        "id": "view-in-github",
        "colab_type": "text"
      },
      "source": [
        "<a href=\"https://colab.research.google.com/github/Rojan116/Deeplearning_computervision/blob/master/featureextraction.ipynb\" target=\"_parent\"><img src=\"https://colab.research.google.com/assets/colab-badge.svg\" alt=\"Open In Colab\"/></a>"
      ]
    },
    {
      "metadata": {
        "id": "Vh1faFxGZroQ",
        "colab_type": "code",
        "colab": {}
      },
      "cell_type": "code",
      "source": [
        "#importing library\n",
        "%matplotlib inline\n",
        "from torchvision import datasets\n",
        "import PIL\n",
        "from skimage.feature import local_binary_pattern, greycomatrix, greycoprops\n",
        "from skimage.filters import gabor\n",
        "import numpy as np\n",
        "import pickle\n",
        "import matplotlib.pyplot as plt"
      ],
      "execution_count": 0,
      "outputs": []
    },
    {
      "metadata": {
        "id": "cwu_RG-PaDc3",
        "colab_type": "code",
        "colab": {
          "base_uri": "https://localhost:8080/",
          "height": 51
        },
        "outputId": "ca2f5d1d-55fa-4441-b1ea-fb570335cf99"
      },
      "cell_type": "code",
      "source": [
        "#Dewnloading Datasets\n",
        "trainDset =  datasets.CIFAR10('./cifar10/', train=True, download=True) \n",
        "testDset =  datasets.CIFAR10('./cifar10/', train=False, download=True)\n"
      ],
      "execution_count": 4,
      "outputs": [
        {
          "output_type": "stream",
          "text": [
            "Downloading https://www.cs.toronto.edu/~kriz/cifar-10-python.tar.gz to ./cifar10/cifar-10-python.tar.gz\n",
            "Files already downloaded and verified\n"
          ],
          "name": "stdout"
        }
      ]
    },
    {
      "metadata": {
        "id": "tm1w4IcxbMop",
        "colab_type": "code",
        "colab": {
          "base_uri": "https://localhost:8080/",
          "height": 51
        },
        "outputId": "644e2047-403d-4ce8-8ed2-843401c0a2e8"
      },
      "cell_type": "code",
      "source": [
        "#size of training and testing datasets\n",
        "print(\"Number of Testing dataset = \"+str(len(testDset)))\n",
        "print(\"Number of Training dataset = \"+str(len(trainDset)))"
      ],
      "execution_count": 6,
      "outputs": [
        {
          "output_type": "stream",
          "text": [
            "Number of Testing dataset = 10000\n",
            "Number of Training dataset = 50000\n"
          ],
          "name": "stdout"
        }
      ]
    },
    {
      "metadata": {
        "id": "2S9MR4xVcUbK",
        "colab_type": "code",
        "colab": {}
      },
      "cell_type": "code",
      "source": [
        ""
      ],
      "execution_count": 0,
      "outputs": []
    }
  ]
}